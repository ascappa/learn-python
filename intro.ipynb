{
 "cells": [
  {
   "cell_type": "code",
   "execution_count": null,
   "metadata": {},
   "outputs": [],
   "source": [
    "def stampaConLunghezza(frase):\n",
    "  frase_stripped = frase.strip().capitalize()\n",
    "  print(f\"La frase \\\"{frase_stripped}\\\" ha lunghezza {len(frase_stripped)}.\")\n",
    "stampaConLunghezza(\"un'altra stringa\")"
   ]
  },
  {
   "cell_type": "code",
   "execution_count": null,
   "metadata": {},
   "outputs": [],
   "source": [
    "def trova_non_nullo(my_string):\n",
    "  for idx, pupu in enumerate(my_string):\n",
    "    if pupu != \" \":\n",
    "      print(f\"Il primo carattere non nullo è {pupu} all'indice {idx}\")\n",
    "      break\n",
    "\n",
    "print(list(enumerate(\"hello\")))    \n",
    "trova_non_nullo(\"  equino\")\n",
    "print(list(enumerate(\"hello\"))) "
   ]
  },
  {
   "cell_type": "code",
   "execution_count": null,
   "metadata": {},
   "outputs": [],
   "source": [
    "print(\"hello\")"
   ]
  },
  {
   "cell_type": "code",
   "execution_count": null,
   "metadata": {},
   "outputs": [],
   "source": [
    "print(\"jordan puzza\")"
   ]
  },
  {
   "cell_type": "code",
   "execution_count": null,
   "metadata": {},
   "outputs": [],
   "source": [
    "print(\"andrea equino\")"
   ]
  },
  {
   "cell_type": "code",
   "execution_count": null,
   "metadata": {},
   "outputs": [],
   "source": [
    "2 + 5 + (3 + 7) ** 5"
   ]
  },
  {
   "cell_type": "code",
   "execution_count": null,
   "metadata": {},
   "outputs": [],
   "source": [
    "print(\"Hello world!\")"
   ]
  },
  {
   "cell_type": "code",
   "execution_count": null,
   "metadata": {},
   "outputs": [],
   "source": [
    "# scrivi una funzione che prende come parametri\n",
    "# frase: str\n",
    "# posizione1: int\n",
    "# posizione2: int\n",
    "# e che scambia il carattere in posizione1 con il carattere in posizione2\n",
    "# e ritorna la stringa con i caratteri scambiati\n",
    "def scambia_caratteri(frase: str, posizione1: int, posizione2: int):\n",
    "    frase\n",
    "    frase_list = list(frase)\n",
    "    temp = frase_list[posizione1]\n",
    "    frase_list[posizione1] = frase_list[posizione2]\n",
    "    frase_list[posizione2] = temp\n",
    "    return \"\".join(frase_list)\n",
    "risultato = scambia_caratteri(\"ciao mondo\", 3, 5)\n",
    "print(risultato)"
   ]
  },
  {
   "cell_type": "code",
   "execution_count": null,
   "metadata": {},
   "outputs": [],
   "source": [
    "stringa1 = \"ciao mondo\"\n",
    "print(stringa1[3])\n",
    "stringa1_list = list(stringa1)\n",
    "print(stringa1_list)\n",
    "stringa1_list[3] = \"9\"\n",
    "print(\"\".join(stringa1_list))"
   ]
  },
  {
   "cell_type": "code",
   "execution_count": null,
   "metadata": {},
   "outputs": [],
   "source": [
    "x = True\n",
    "x = False\n",
    "if x == True:\n",
    "  print(x + 4)\n",
    "else:\n",
    "  print(\"sei falso!\")"
   ]
  },
  {
   "cell_type": "code",
   "execution_count": null,
   "metadata": {},
   "outputs": [],
   "source": [
    "jordan = \"jordan è un equino\"\n",
    "jordan = 7\n",
    "print(jordan * 7 + \"quanti jordan!\")"
   ]
  },
  {
   "cell_type": "code",
   "execution_count": null,
   "metadata": {},
   "outputs": [],
   "source": [
    "jordan: str = 7\n",
    "\n",
    "#print(jordan * 9 + \"quanti jordan!\")"
   ]
  },
  {
   "cell_type": "code",
   "execution_count": null,
   "metadata": {},
   "outputs": [],
   "source": [
    "def stampaConLunghezza(frase):\n",
    "  print(f\"{frase.upper()} è lunga {len(frase) * 4}\")\n",
    "stampaConLunghezza(\"hello there mi friendo\")"
   ]
  },
  {
   "cell_type": "code",
   "execution_count": null,
   "metadata": {},
   "outputs": [],
   "source": [
    "dir(str)"
   ]
  },
  {
   "cell_type": "code",
   "execution_count": 14,
   "metadata": {},
   "outputs": [
    {
     "name": "stdout",
     "output_type": "stream",
     "text": [
      "<!DOCTYPE html>\n",
      "<html lang=\"en\">\n",
      "  <head>\n",
      "    <meta charset=\"UTF-8\" />\n",
      "    <meta name=\"viewport\" content=\"width=device-width, initial-scale=1.0\" />\n",
      "    <link rel=\"stylesheet\" href=\"styles/reset.css\" />\n",
      "    <link rel=\"stylesheet\" href=\"styles/style.css\" />\n",
      "    <title>Meteo</title>\n",
      "  </head>\n",
      "  <body>\n",
      "    <header>\n",
      "      <h1 class=\"logo\">\n",
      "        <a href=\".\"><span>mete</span><i data-lucide=\"sun-dim\"></i></a>\n",
      "      </h1>\n",
      "      <form id=\"citySearchForm\" style=\"display: contents\">\n",
      "        <div class=\"search-wrapper\">\n",
      "          <input\n",
      "            type=\"search\"\n",
      "            id=\"citySearch\"\n",
      "            name=\"q\"\n",
      "            aria-label=\"Cerca una città...\"\n",
      "            placeholder=\"Cerca una città...\"\n",
      "            list=\"city-list\"\n",
      "            minlength=\"10\"\n",
      "          />\n",
      "          <button type=\"submit\"><i data-lucide=\"search\"></i></button>\n",
      "          <datalist id=\"city-list\"></datalist>\n",
      "        </div>\n",
      "      </form>\n",
      "      <nav>\n",
      "        <ul>\n",
      "          <li><a href=\"team.html\">il team</a></li>\n",
      "          <li><a href=\"contact.html\">contattaci</a></li>\n",
      "          <li><a>tech stack</a></li>\n",
      "        </ul>\n",
      "      </nav>\n",
      "    </header>\n",
      "    <main>\n",
      "      <article class=\"city-wrapper\">\n",
      "        <h2 id=\"city-name\"></h2>\n",
      "        <p id=\"city-date\"></p>\n",
      "        <p id=\"city-time\"></p>\n",
      "      </article>\n",
      "      <div id=\"city-weather\">\n",
      "        <img class=\"icon\" src=\"./assets/clouds.svg\" alt=\"Una nuvola\" />\n",
      "        <p class=\"weather\"></p>\n",
      "        <p class=\"temperature\"></p>\n",
      "      </div>\n",
      "      <article id=\"day-weather\">\n",
      "        <h2>Meteo del giorno</h2>\n",
      "        <ul></ul>\n",
      "      </article>\n",
      "      <article id=\"week-weather\">\n",
      "        <h2>Meteo della settimana</h2>\n",
      "        <ul></ul>\n",
      "      </article>\n",
      "      <section id=\"more-info\">\n",
      "        <article>\n",
      "          <h2>Percepita</h2>\n",
      "          <img src=\"./assets/thermometer-sun.svg\" alt=\"\" />\n",
      "          <p class=\"feels_like\"></p>\n",
      "        </article>\n",
      "        <article>\n",
      "          <h2>Umidità</h2>\n",
      "          <img src=\"./assets/droplets.svg\" alt=\"\" />\n",
      "          <p class=\"humidity\"></p>\n",
      "        </article>\n",
      "        <article>\n",
      "          <h2>Pressione</h2>\n",
      "          <img src=\"./assets/circle-gauge.svg\" alt=\"\" />\n",
      "          <p class=\"pressure\"></p>\n",
      "        </article>\n",
      "      </section>\n",
      "    </main>\n",
      "    <script src=\"https://unpkg.com/lucide@latest\"></script>\n",
      "    <script>\n",
      "      lucide.createIcons();\n",
      "    </script>\n",
      "    <script src=\"index.js\"></script>\n",
      "  </body>\n",
      "</html>\n",
      "\n"
     ]
    }
   ],
   "source": [
    "import requests\n",
    "r = requests.get(\"https://weather-sigma-gilt.vercel.app/\")\n",
    "\n",
    "# print(vars(r))\n",
    "# print(dir(r))\n",
    "# print(r.reason)\n",
    "print(r.text)"
   ]
  }
 ],
 "metadata": {
  "kernelspec": {
   "display_name": "Python 3",
   "language": "python",
   "name": "python3"
  },
  "language_info": {
   "codemirror_mode": {
    "name": "ipython",
    "version": 3
   },
   "file_extension": ".py",
   "mimetype": "text/x-python",
   "name": "python",
   "nbconvert_exporter": "python",
   "pygments_lexer": "ipython3",
   "version": "3.11.4"
  }
 },
 "nbformat": 4,
 "nbformat_minor": 2
}
