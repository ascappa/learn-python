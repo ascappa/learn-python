{
 "cells": [
  {
   "cell_type": "code",
   "execution_count": null,
   "metadata": {},
   "outputs": [],
   "source": [
    "def trova_non_nullo(my_string):\n",
    "  for idx, pupu in enumerate(my_string):\n",
    "    if pupu != \" \":\n",
    "      print(f\"Il primo carattere non nullo è {pupu} all'indice {idx}\")\n",
    "      break\n",
    "\n",
    "print(list(enumerate(\"hello\")))    \n",
    "trova_non_nullo(\"  equino\")\n",
    "print(list(enumerate(\"hello\"))) "
   ]
  },
  {
   "cell_type": "code",
   "execution_count": null,
   "metadata": {},
   "outputs": [],
   "source": [
    "print(\"hello\")"
   ]
  },
  {
   "cell_type": "code",
   "execution_count": null,
   "metadata": {},
   "outputs": [],
   "source": [
    "print(\"jordan puzza\")"
   ]
  },
  {
   "cell_type": "code",
   "execution_count": null,
   "metadata": {},
   "outputs": [],
   "source": [
    "print(\"andrea equino\")"
   ]
  },
  {
   "cell_type": "code",
   "execution_count": null,
   "metadata": {},
   "outputs": [],
   "source": [
    "2 + 5 + (3 + 7) ** 5"
   ]
  },
  {
   "cell_type": "code",
   "execution_count": null,
   "metadata": {},
   "outputs": [],
   "source": [
    "print(\"Hello world!\")"
   ]
  },
  {
   "cell_type": "code",
   "execution_count": null,
   "metadata": {},
   "outputs": [],
   "source": [
    "# scrivi una funzione che prende come parametri\n",
    "# frase: str\n",
    "# posizione1: int\n",
    "# posizione2: int\n",
    "# e che scambia il carattere in posizione1 con il carattere in posizione2\n",
    "# e ritorna la stringa con i caratteri scambiati\n",
    "def scambia_caratteri(frase: str, posizione1: int, posizione2: int):\n",
    "    frase\n",
    "    frase_list = list(frase)\n",
    "    temp = frase_list[posizione1]\n",
    "    frase_list[posizione1] = frase_list[posizione2]\n",
    "    frase_list[posizione2] = temp\n",
    "    return \"\".join(frase_list)\n",
    "risultato = scambia_caratteri(\"ciao mondo\", 3, 5)\n",
    "print(risultato)"
   ]
  },
  {
   "cell_type": "code",
   "execution_count": null,
   "metadata": {},
   "outputs": [],
   "source": [
    "stringa1 = \"ciao mondo\"\n",
    "print(stringa1[3])\n",
    "stringa1_list = list(stringa1)\n",
    "print(stringa1_list)\n",
    "stringa1_list[3] = \"9\"\n",
    "print(\"\".join(stringa1_list))"
   ]
  },
  {
   "cell_type": "code",
   "execution_count": null,
   "metadata": {},
   "outputs": [],
   "source": [
    "x = True\n",
    "x = False\n",
    "if x == True:\n",
    "  print(x + 4)\n",
    "else:\n",
    "  print(\"sei falso!\")"
   ]
  },
  {
   "cell_type": "code",
   "execution_count": null,
   "metadata": {},
   "outputs": [],
   "source": [
    "jordan = \"jordan è un equino\"\n",
    "jordan = 7\n",
    "print(jordan * 7 + \"quanti jordan!\")"
   ]
  },
  {
   "cell_type": "code",
   "execution_count": null,
   "metadata": {},
   "outputs": [],
   "source": [
    "jordan: str = 7\n",
    "\n",
    "#print(jordan * 9 + \"quanti jordan!\")"
   ]
  },
  {
   "cell_type": "code",
   "execution_count": null,
   "metadata": {},
   "outputs": [],
   "source": [
    "def stampaConLunghezza(frase):\n",
    "  print(f\"{frase.upper()} è lunga {len(frase) * 4}\")\n",
    "stampaConLunghezza(\"hello there mi friendo\")"
   ]
  },
  {
   "cell_type": "code",
   "execution_count": null,
   "metadata": {},
   "outputs": [],
   "source": [
    "dir(str)"
   ]
  },
  {
   "cell_type": "code",
   "execution_count": null,
   "metadata": {},
   "outputs": [],
   "source": [
    "import requests\n",
    "r = requests.get(\"https://weather-sigma-gilt.vercel.app/\")\n",
    "\n",
    "# print(vars(r))\n",
    "# print(dir(r))\n",
    "# print(r.reason)\n",
    "print(r.text)"
   ]
  },
  {
   "cell_type": "code",
   "execution_count": null,
   "metadata": {},
   "outputs": [],
   "source": [
    "def stampaConLunghezza(frase):\n",
    "  frase_stripped = frase.strip().capitalize()\n",
    "  print(f\"La frase \\\"{frase_stripped}\\\" ha lunghezza {len(frase_stripped)}.\")\n",
    "stampaConLunghezza(\"un'altra stringa\")"
   ]
  },
  {
   "cell_type": "code",
   "execution_count": 31,
   "metadata": {},
   "outputs": [
    {
     "name": "stdout",
     "output_type": "stream",
     "text": [
      "(65654, 34, 324, 243, 23)\n",
      "66295\n"
     ]
    }
   ],
   "source": [
    "# l'argomento riguardante *nums si può trovare online cercando *args\n",
    "def sum(num1, num2, *nums):\n",
    "  print(nums)\n",
    "  la_mia_somma = num1 + num2\n",
    "  for num in nums:\n",
    "    la_mia_somma += num\n",
    "  return la_mia_somma\n",
    "\n",
    "print(sum(8, 9, 65654, 34, 324, 243, 23))"
   ]
  },
  {
   "cell_type": "code",
   "execution_count": 32,
   "metadata": {},
   "outputs": [
    {
     "name": "stdout",
     "output_type": "stream",
     "text": [
      "{'colore_occhi': 'blu', 'altezza': '180cm'}\n",
      "Età: 34\n",
      "Nazionalità: Italiana\n",
      "Sesso: F\n",
      "colore_occhi: blu\n",
      "altezza: 180cm\n",
      "\n"
     ]
    }
   ],
   "source": [
    "# l'argomento riguardante **caratteristiche si pùò trovare online\n",
    "# cercando **kargs (keyword args)\n",
    "def crea_persona(eta, nazionalita=\"Italiana\", sesso=\"M\", **caratteristiche):\n",
    "  print(caratteristiche)\n",
    "  la_mia_persona = \"\"\n",
    "  la_mia_persona += f\"Età: {eta}\\nNazionalità: {nazionalita}\\nSesso: {sesso}\\n\"\n",
    "  for k in caratteristiche:\n",
    "    la_mia_persona += f\"{k}: {caratteristiche[k]}\\n\"\n",
    "  print(la_mia_persona)\n",
    "crea_persona(34, sesso=\"F\", colore_occhi=\"blu\", altezza=\"180cm\")"
   ]
  },
  {
   "cell_type": "code",
   "execution_count": null,
   "metadata": {},
   "outputs": [],
   "source": []
  }
 ],
 "metadata": {
  "kernelspec": {
   "display_name": "Python 3",
   "language": "python",
   "name": "python3"
  },
  "language_info": {
   "codemirror_mode": {
    "name": "ipython",
    "version": 3
   },
   "file_extension": ".py",
   "mimetype": "text/x-python",
   "name": "python",
   "nbconvert_exporter": "python",
   "pygments_lexer": "ipython3",
   "version": "3.11.4"
  }
 },
 "nbformat": 4,
 "nbformat_minor": 2
}
